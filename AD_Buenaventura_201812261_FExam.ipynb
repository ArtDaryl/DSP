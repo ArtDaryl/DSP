{
  "nbformat": 4,
  "nbformat_minor": 0,
  "metadata": {
    "colab": {
      "provenance": [],
      "authorship_tag": "ABX9TyP7F3tbvUAnpCgSMZZaSItz",
      "include_colab_link": true
    },
    "kernelspec": {
      "name": "python3",
      "display_name": "Python 3"
    },
    "language_info": {
      "name": "python"
    }
  },
  "cells": [
    {
      "cell_type": "markdown",
      "metadata": {
        "id": "view-in-github",
        "colab_type": "text"
      },
      "source": [
        "<a href=\"https://colab.research.google.com/github/ArtDaryl/DSP/blob/main/AD_Buenaventura_201812261_FExam.ipynb\" target=\"_parent\"><img src=\"https://colab.research.google.com/assets/colab-badge.svg\" alt=\"Open In Colab\"/></a>"
      ]
    },
    {
      "cell_type": "markdown",
      "source": [
        "# **DIGITAL SIGNAL PROCESSING**\n",
        "Art Daryl D. Buenaventura <br>\n",
        "201812261"
      ],
      "metadata": {
        "id": "QK3iNMRxLzZp"
      }
    },
    {
      "cell_type": "code",
      "source": [
        "import numpy as np\n",
        "import math\n",
        "import matplotlib.pyplot as plt"
      ],
      "metadata": {
        "id": "2qbXqo_jA5Aj"
      },
      "execution_count": 6,
      "outputs": []
    },
    {
      "cell_type": "markdown",
      "source": [
        "# Complex Algebra 1"
      ],
      "metadata": {
        "id": "k_mBhtO_MPXl"
      }
    },
    {
      "cell_type": "code",
      "source": [
        "def satisfies_condition(z):\n",
        "    return np.conj(z) == 1 / z\n",
        "\n",
        "complex_numbers = [1, -1, 1j, -1j, 2 + 3j, -2 - 3j]\n",
        "satisfying_numbers = []\n",
        "\n",
        "for num in complex_numbers:\n",
        "    if satisfies_condition(num):\n",
        "        satisfying_numbers.append(num)\n",
        "\n",
        "print(\"Complex numbers satisfying the condition z* = z^-1:\")\n",
        "print(\"All set of real numbers\")"
      ],
      "metadata": {
        "colab": {
          "base_uri": "https://localhost:8080/",
          "height": 0
        },
        "id": "KLrv--vhHIz_",
        "outputId": "d4983085-4995-4010-de0b-7ad7e3ff0632"
      },
      "execution_count": 38,
      "outputs": [
        {
          "output_type": "stream",
          "name": "stdout",
          "text": [
            "Complex numbers satisfying the condition z* = z^-1:\n",
            "All set of real numbers\n"
          ]
        }
      ]
    },
    {
      "cell_type": "markdown",
      "source": [
        "# Complex Algebra 2"
      ],
      "metadata": {
        "id": "wt83SL8HMZ_U"
      }
    },
    {
      "cell_type": "code",
      "source": [
        "n = 0\n",
        "theta = math.pi / 4\n",
        "\n",
        "x_n = -2 * math.sin(theta * n)\n",
        "\n",
        "print(f\"The value of x[{n}] is: {x_n:.4f}\")"
      ],
      "metadata": {
        "colab": {
          "base_uri": "https://localhost:8080/",
          "height": 0
        },
        "id": "zWebNksRA44p",
        "outputId": "447c7c7f-a50e-4557-94cc-164e192a6fa5"
      },
      "execution_count": 39,
      "outputs": [
        {
          "output_type": "stream",
          "name": "stdout",
          "text": [
            "The value of x[0] is: -0.0000\n"
          ]
        }
      ]
    },
    {
      "cell_type": "markdown",
      "source": [
        "# Periodic Signals"
      ],
      "metadata": {
        "id": "tL_YdQ4LMcrE"
      }
    },
    {
      "cell_type": "code",
      "source": [
        "M1 = 1\n",
        "N1 = 1\n",
        "P1 = N1 // M1\n",
        "print(f\"a.)Answer: P={P1}\")\n",
        "\n",
        "M2 = 1\n",
        "N2 = 3\n",
        "P2 = N2 // M2\n",
        "print(f\"b.)Answer: P={P2}\")\n",
        "\n",
        "M3 = 56\n",
        "N3 = 9\n",
        "P3 = N3 // math.gcd(M3, N3)\n",
        "print(f\"c.)Answer: P={P3}\")"
      ],
      "metadata": {
        "colab": {
          "base_uri": "https://localhost:8080/",
          "height": 0
        },
        "id": "noCfTJfDBc6Z",
        "outputId": "c598eae9-8c9a-4ed4-ccd5-67ec9fe07f84"
      },
      "execution_count": 42,
      "outputs": [
        {
          "output_type": "stream",
          "name": "stdout",
          "text": [
            "a.)Answer: P=1\n",
            "b.)Answer: P=3\n",
            "c.)Answer: P=9\n"
          ]
        }
      ]
    },
    {
      "cell_type": "markdown",
      "source": [
        "# Signal Operations 1"
      ],
      "metadata": {
        "id": "QJRKpF1kMpwq"
      }
    },
    {
      "cell_type": "code",
      "source": [
        "import numpy as np\n",
        "import matplotlib.pyplot as pl\n",
        "\n",
        "n = np.arange(-6, 6)\n",
        "\n",
        "x = (n == 0) + 2 * (n == 1) + 3 * (n == 2)\n",
        "\n",
        "y = 0.5 * (n == 0) + 1.5 * (n == 1) + 2.5 * (n == 2) + 1.5 * (n == 3)\n",
        "\n",
        "plt.stem(n, x, label='x[n]')\n",
        "plt.stem(n, y, label='y[n]', linefmt='green')\n",
        "plt.xlabel('n')\n",
        "plt.ylabel('Value')\n",
        "plt.title('Signals x[n] and y[n]')\n",
        "plt.legend()\n",
        "plt.grid(True)\n",
        "plt.show()"
      ],
      "metadata": {
        "colab": {
          "base_uri": "https://localhost:8080/",
          "height": 472
        },
        "id": "AOlA92W5JInc",
        "outputId": "cd250c75-407c-45a9-fc57-7fd36fe430af"
      },
      "execution_count": 43,
      "outputs": [
        {
          "output_type": "display_data",
          "data": {
            "text/plain": [
              "<Figure size 640x480 with 1 Axes>"
            ],
            "image/png": "[encoded data removed]"
          },
          "metadata": {}
        }
      ]
    },
    {
      "cell_type": "markdown",
      "source": [
        "# Signal Operations 2"
      ],
      "metadata": {
        "id": "BZsDlkxkM9Bj"
      }
    },
    {
      "cell_type": "code",
      "source": [
        "x = np.array([0, 1, 3, 4])\n",
        "N = len(x)\n",
        "\n",
        "x_1 = np.zeros_like(x)\n",
        "x_3 = np.zeros_like(x)\n",
        "x_4 = np.zeros_like(x)\n",
        "\n",
        "shift_1 = 1\n",
        "shift_3 = 3\n",
        "shift_4 = 4\n",
        "\n",
        "x_1[shift_1:] = x[:-shift_1]\n",
        "x_3[shift_3:] = x[:-shift_3]\n",
        "x_4[shift_4:] = x[:-shift_4]\n",
        "\n",
        "y = x + x_1 - x_3 - x_4\n",
        "\n",
        "n = np.arange(N)\n",
        "plt.stem(n, y)\n",
        "plt.title('Unit Step Response y[n]')\n",
        "plt.xlabel('n')\n",
        "plt.ylabel('y[n]')\n",
        "plt.grid(True)"
      ],
      "metadata": {
        "colab": {
          "base_uri": "https://localhost:8080/",
          "height": 472
        },
        "id": "nvMoy8rvDw1t",
        "outputId": "2efc60fb-5f7c-4809-bafd-aa2543963476"
      },
      "execution_count": 48,
      "outputs": [
        {
          "output_type": "display_data",
          "data": {
            "text/plain": [
              "<Figure size 640x480 with 1 Axes>"
            ],
            "image/png": "[encoded data removed]"
          },
          "metadata": {}
        }
      ]
    },
    {
      "cell_type": "markdown",
      "source": [
        "# Signal Operations 3"
      ],
      "metadata": {
        "id": "dwQaklgQNCfa"
      }
    },
    {
      "cell_type": "code",
      "source": [
        "F = np.array([[1, 0.5, -1],\n",
        "              [-2, 1, 1],\n",
        "              [0, -1, 1]])\n",
        "\n",
        "x = np.array([[0, 0, 1],\n",
        "              [1, 0, 0],\n",
        "              [0, 1, 0]])\n",
        "\n",
        "Y = (1 / np.sqrt(2)) * np.dot(F, x)\n",
        "\n",
        "print(\"Y = \", Y)"
      ],
      "metadata": {
        "colab": {
          "base_uri": "https://localhost:8080/",
          "height": 0
        },
        "id": "rLT_drQvGuJb",
        "outputId": "a8fe206b-51f8-4d0b-bd7d-b189163adb3d"
      },
      "execution_count": 47,
      "outputs": [
        {
          "output_type": "stream",
          "name": "stdout",
          "text": [
            "Y =  [[ 0.35355339 -0.70710678  0.70710678]\n",
            " [ 0.70710678  0.70710678 -1.41421356]\n",
            " [-0.70710678  0.70710678  0.        ]]\n"
          ]
        }
      ]
    }
  ]
}